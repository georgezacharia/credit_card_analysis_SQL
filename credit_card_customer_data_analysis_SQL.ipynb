{
 "cells": [
  {
   "cell_type": "markdown",
   "id": "8fa678c9-211a-4471-9ddb-37a133d352aa",
   "metadata": {},
   "source": [
    "# 📊 Financial Analysis of Credit Card and Customer Data"
   ]
  },
  {
   "cell_type": "markdown",
   "id": "873b170d-dbdb-440a-a979-cd93ffcbcaa0",
   "metadata": {},
   "source": [
    "## 🎯 Project Objective\n",
    "The goal of this project is to analyze the relationships between customer demographics and their credit card usage. We will explore how factors such as education level, customer jobs, gender, house ownership, and personal loans influence financial behavior. This analysis will utilize SQL queries within Jupyter Notebook to uncover insights that can inform strategic decisions.\n",
    "\n"
   ]
  },
  {
   "cell_type": "markdown",
   "id": "4a5e5872-e5f9-460b-9d87-89d04e2fbd3c",
   "metadata": {},
   "source": [
    "## 1. Setup and Import Libraries"
   ]
  },
  {
   "cell_type": "code",
   "execution_count": 19,
   "id": "24f35706-9539-4561-85ad-b452793a67e8",
   "metadata": {},
   "outputs": [],
   "source": [
    "import sqlite3"
   ]
  },
  {
   "cell_type": "code",
   "execution_count": 21,
   "id": "1851f2e4-f937-41e6-9739-86cad293f958",
   "metadata": {},
   "outputs": [],
   "source": [
    "import pandas as pd"
   ]
  },
  {
   "cell_type": "code",
   "execution_count": 23,
   "id": "a71f26a9-6287-4439-9357-7069eea988ce",
   "metadata": {},
   "outputs": [],
   "source": [
    "import seaborn as sns"
   ]
  },
  {
   "cell_type": "code",
   "execution_count": 25,
   "id": "9886ff90-0c51-4363-a3a1-4792a9133ec3",
   "metadata": {},
   "outputs": [],
   "source": [
    "import matplotlib.pyplot as plt"
   ]
  },
  {
   "cell_type": "markdown",
   "id": "72d68bdf-3c67-4df8-a203-058d4c978966",
   "metadata": {},
   "source": [
    "### Setting Seaborn style for plots"
   ]
  },
  {
   "cell_type": "code",
   "execution_count": 28,
   "id": "aa0136c2-b94e-4488-b6c8-43c6b5bbd2af",
   "metadata": {},
   "outputs": [],
   "source": [
    "sns.set(style=\"whitegrid\")"
   ]
  },
  {
   "cell_type": "markdown",
   "id": "a4a50cef-d25e-4844-83f4-6dba71e59982",
   "metadata": {},
   "source": [
    "## 2. Load Datasets into Pandas DataFrames"
   ]
  },
  {
   "cell_type": "markdown",
   "id": "07e09c97-bc1e-4cf8-b812-2721fd5e7138",
   "metadata": {},
   "source": [
    "###  Load the datasets"
   ]
  },
  {
   "cell_type": "code",
   "execution_count": 38,
   "id": "638646bd-04dc-4918-8881-8d2cae4ab4ee",
   "metadata": {},
   "outputs": [],
   "source": [
    "credit_card_df = pd.read_csv(r\"C:\\Users\\LENOVO\\Desktop\\SQL\\credit_card.csv\")"
   ]
  },
  {
   "cell_type": "code",
   "execution_count": 42,
   "id": "696d7e7e-f2e6-4d98-8bac-4d3db3f30602",
   "metadata": {},
   "outputs": [],
   "source": [
    "customer_df = pd.read_csv(r\"C:\\Users\\LENOVO\\Desktop\\SQL\\customer.csv\")"
   ]
  },
  {
   "cell_type": "markdown",
   "id": "21659826-7d47-4a19-afaf-3d39c2ee364d",
   "metadata": {},
   "source": [
    "### 3. Display the first few rows of each DataFrame"
   ]
  },
  {
   "cell_type": "code",
   "execution_count": 46,
   "id": "3cdde6d4-d533-463e-97c5-23d888160612",
   "metadata": {},
   "outputs": [
    {
     "data": {
      "text/plain": [
       "(   Client_Num Card_Category  Annual_Fees  Activation_30_Days  \\\n",
       " 0   708082083          Blue          200                   0   \n",
       " 1   708083283          Blue          445                   1   \n",
       " 2   708084558          Blue          140                   0   \n",
       " 3   708085458          Blue          250                   1   \n",
       " 4   708086958          Blue          320                   1   \n",
       " \n",
       "    Customer_Acq_Cost Week_Start_Date Week_Num Qtr  current_year  Credit_Limit  \\\n",
       " 0                 87      01-01-2023   Week-1  Q1          2023        3544.0   \n",
       " 1                108      01-01-2023   Week-1  Q1          2023        3421.0   \n",
       " 2                106      01-01-2023   Week-1  Q1          2023        8258.0   \n",
       " 3                150      01-01-2023   Week-1  Q1          2023        1438.3   \n",
       " 4                106      01-01-2023   Week-1  Q1          2023        3128.0   \n",
       " \n",
       "    Total_Revolving_Bal  Total_Trans_Amt  Total_Trans_Vol  \\\n",
       " 0                 1661            15149              111   \n",
       " 1                 2517              992               21   \n",
       " 2                 1771             1447               23   \n",
       " 3                    0             3940               82   \n",
       " 4                  749             4369               59   \n",
       " \n",
       "    Avg_Utilization_Ratio Use Chip       Exp Type  Interest_Earned  \\\n",
       " 0                  0.469    Chip          Travel          4393.21   \n",
       " 1                  0.736   Swipe   Entertainment            69.44   \n",
       " 2                  0.214    Chip           Bills           202.58   \n",
       " 3                  0.000  Online         Grocery           236.40   \n",
       " 4                  0.239   Swipe            Fuel          1004.87   \n",
       " \n",
       "    Delinquent_Acc  \n",
       " 0               0  \n",
       " 1               0  \n",
       " 2               0  \n",
       " 3               0  \n",
       " 4               1  ,\n",
       "    Client_Num  Customer_Age Gender  Dependent_Count Education_Level  \\\n",
       " 0   708082083            24      F                1      Uneducated   \n",
       " 1   708083283            62      F                0         Unknown   \n",
       " 2   708084558            32      F                1         Unknown   \n",
       " 3   708085458            38      M                2      Uneducated   \n",
       " 4   708086958            48      M                4        Graduate   \n",
       " \n",
       "   Marital_Status state_cd  Zipcode Car_Owner House_Owner Personal_loan  \\\n",
       " 0         Single       FL    91750        no         yes            no   \n",
       " 1        Married       NJ    91750        no          no            no   \n",
       " 2        Married       NJ    91750       yes          no            no   \n",
       " 3         Single       NY    91750        no          no            no   \n",
       " 4         Single       TX    91750       yes         yes            no   \n",
       " \n",
       "     contact   Customer_Job  Income  Cust_Satisfaction_Score  \n",
       " 0   unknown    Businessman  202326                        3  \n",
       " 1  cellular  Selfemployeed    5225                        2  \n",
       " 2   unknown  Selfemployeed   14235                        2  \n",
       " 3  cellular    Blue-collar   45683                        1  \n",
       " 4  cellular    Businessman   59279                        1  )"
      ]
     },
     "execution_count": 46,
     "metadata": {},
     "output_type": "execute_result"
    }
   ],
   "source": [
    "credit_card_df.head(), customer_df.head()"
   ]
  },
  {
   "cell_type": "markdown",
   "id": "1e4eb4b6-59bc-4eda-b8da-d286ad524a3e",
   "metadata": {},
   "source": [
    "#### Create an SQLite database in memory"
   ]
  },
  {
   "cell_type": "code",
   "execution_count": 53,
   "id": "ff92d7fe-36e1-42bd-8c35-9f7fb20ef94b",
   "metadata": {},
   "outputs": [],
   "source": [
    "conn = sqlite3.connect(\":memory:\")"
   ]
  },
  {
   "cell_type": "markdown",
   "id": "43792783-4ec2-40cd-a48d-2b4475f8fb9e",
   "metadata": {},
   "source": [
    "#### Load the datasets into the SQLite database"
   ]
  },
  {
   "cell_type": "code",
   "execution_count": 56,
   "id": "c8b1c3ba-4f31-41f3-ba5e-1af330b68b01",
   "metadata": {},
   "outputs": [
    {
     "data": {
      "text/plain": [
       "10108"
      ]
     },
     "execution_count": 56,
     "metadata": {},
     "output_type": "execute_result"
    }
   ],
   "source": [
    "credit_card_df.to_sql(\"credit_card\", conn, index=False, if_exists=\"replace\")"
   ]
  },
  {
   "cell_type": "code",
   "execution_count": 58,
   "id": "6ca77be4-51dd-4555-a461-8dbe9d2eeaf4",
   "metadata": {},
   "outputs": [
    {
     "data": {
      "text/plain": [
       "10108"
      ]
     },
     "execution_count": 58,
     "metadata": {},
     "output_type": "execute_result"
    }
   ],
   "source": [
    "customer_df.to_sql(\"customer\", conn, index=False, if_exists=\"replace\")"
   ]
  },
  {
   "cell_type": "markdown",
   "id": "9d8a2cc4-5465-43f9-a9d5-692f8bdbe023",
   "metadata": {},
   "source": [
    "### 4. Join the Two Datasets on Client_Num"
   ]
  },
  {
   "cell_type": "markdown",
   "id": "7b7604fe-5a05-446d-a132-8bd6c334f048",
   "metadata": {},
   "source": [
    "### 🔗 Joining Credit Card and Customer Data\n",
    "We will join the `credit_card` and `customer` tables using the `Client_Num` column."
   ]
  },
  {
   "cell_type": "markdown",
   "id": "044ec4ae-67a4-48a5-806d-70bd7af38683",
   "metadata": {},
   "source": [
    "##### SQL query to join the two datasets"
   ]
  },
  {
   "cell_type": "code",
   "execution_count": 78,
   "id": "22cb6062-6926-4ffd-a801-b0396c5d878d",
   "metadata": {},
   "outputs": [],
   "source": [
    "query = \"\"\"\n",
    "SELECT \n",
    "    cc.Client_Num,\n",
    "    cc.Card_Category,\n",
    "    cc.Annual_Fees,\n",
    "    cc.Activation_30_Days,\n",
    "    cc.Customer_Acq_Cost,\n",
    "    cc.Week_Start_Date,\n",
    "    cc.Week_Num,\n",
    "    cc.Qtr,\n",
    "    cc.current_year,\n",
    "    cc.Credit_Limit,\n",
    "    cc.Total_Revolving_Bal,\n",
    "    cc.Total_Trans_Amt,\n",
    "    cc.Total_Trans_Vol,\n",
    "    cc.Avg_Utilization_Ratio,\n",
    "    cc.[Use Chip],\n",
    "    cc.[Exp Type],\n",
    "    cc.Interest_Earned,\n",
    "    cc.Delinquent_Acc,\n",
    "    cu.Customer_Age,\n",
    "    cu.Gender,\n",
    "    cu.Dependent_Count,\n",
    "    cu.Education_Level,\n",
    "    cu.Marital_Status,\n",
    "    cu.state_cd,\n",
    "    cu.Zipcode,\n",
    "    cu.Car_Owner,\n",
    "    cu.House_Owner,\n",
    "    cu.Personal_loan,\n",
    "    cu.contact,\n",
    "    cu.Customer_Job,\n",
    "    cu.Income,\n",
    "    cu.Cust_Satisfaction_Score\n",
    "FROM \n",
    "    credit_card cc\n",
    "JOIN \n",
    "    customer cu\n",
    "ON \n",
    "    cc.Client_Num = cu.Client_Num\n",
    "\"\"\""
   ]
  },
  {
   "cell_type": "markdown",
   "id": "b4a514b8-031d-40b8-bd57-e0b88caad745",
   "metadata": {},
   "source": [
    "##### Execute the query and load the result into a DataFrame"
   ]
  },
  {
   "cell_type": "code",
   "execution_count": 80,
   "id": "928a0726-0eef-435b-961b-11a5d8925358",
   "metadata": {},
   "outputs": [],
   "source": [
    "combined_df = pd.read_sql(query, conn)"
   ]
  },
  {
   "cell_type": "markdown",
   "id": "7caf3a34-bc46-4d62-aad0-104caf1ef778",
   "metadata": {},
   "source": [
    "##### Display the first few rows of the joined DataFrame"
   ]
  },
  {
   "cell_type": "code",
   "execution_count": 83,
   "id": "f8a39022-ecbc-4776-8777-cadea66762d0",
   "metadata": {},
   "outputs": [
    {
     "data": {
      "text/html": [
       "<div>\n",
       "<style scoped>\n",
       "    .dataframe tbody tr th:only-of-type {\n",
       "        vertical-align: middle;\n",
       "    }\n",
       "\n",
       "    .dataframe tbody tr th {\n",
       "        vertical-align: top;\n",
       "    }\n",
       "\n",
       "    .dataframe thead th {\n",
       "        text-align: right;\n",
       "    }\n",
       "</style>\n",
       "<table border=\"1\" class=\"dataframe\">\n",
       "  <thead>\n",
       "    <tr style=\"text-align: right;\">\n",
       "      <th></th>\n",
       "      <th>Client_Num</th>\n",
       "      <th>Card_Category</th>\n",
       "      <th>Annual_Fees</th>\n",
       "      <th>Activation_30_Days</th>\n",
       "      <th>Customer_Acq_Cost</th>\n",
       "      <th>Week_Start_Date</th>\n",
       "      <th>Week_Num</th>\n",
       "      <th>Qtr</th>\n",
       "      <th>current_year</th>\n",
       "      <th>Credit_Limit</th>\n",
       "      <th>...</th>\n",
       "      <th>Marital_Status</th>\n",
       "      <th>state_cd</th>\n",
       "      <th>Zipcode</th>\n",
       "      <th>Car_Owner</th>\n",
       "      <th>House_Owner</th>\n",
       "      <th>Personal_loan</th>\n",
       "      <th>contact</th>\n",
       "      <th>Customer_Job</th>\n",
       "      <th>Income</th>\n",
       "      <th>Cust_Satisfaction_Score</th>\n",
       "    </tr>\n",
       "  </thead>\n",
       "  <tbody>\n",
       "    <tr>\n",
       "      <th>0</th>\n",
       "      <td>708082083</td>\n",
       "      <td>Blue</td>\n",
       "      <td>200</td>\n",
       "      <td>0</td>\n",
       "      <td>87</td>\n",
       "      <td>01-01-2023</td>\n",
       "      <td>Week-1</td>\n",
       "      <td>Q1</td>\n",
       "      <td>2023</td>\n",
       "      <td>3544.0</td>\n",
       "      <td>...</td>\n",
       "      <td>Single</td>\n",
       "      <td>FL</td>\n",
       "      <td>91750</td>\n",
       "      <td>no</td>\n",
       "      <td>yes</td>\n",
       "      <td>no</td>\n",
       "      <td>unknown</td>\n",
       "      <td>Businessman</td>\n",
       "      <td>202326</td>\n",
       "      <td>3</td>\n",
       "    </tr>\n",
       "    <tr>\n",
       "      <th>1</th>\n",
       "      <td>708083283</td>\n",
       "      <td>Blue</td>\n",
       "      <td>445</td>\n",
       "      <td>1</td>\n",
       "      <td>108</td>\n",
       "      <td>01-01-2023</td>\n",
       "      <td>Week-1</td>\n",
       "      <td>Q1</td>\n",
       "      <td>2023</td>\n",
       "      <td>3421.0</td>\n",
       "      <td>...</td>\n",
       "      <td>Married</td>\n",
       "      <td>NJ</td>\n",
       "      <td>91750</td>\n",
       "      <td>no</td>\n",
       "      <td>no</td>\n",
       "      <td>no</td>\n",
       "      <td>cellular</td>\n",
       "      <td>Selfemployeed</td>\n",
       "      <td>5225</td>\n",
       "      <td>2</td>\n",
       "    </tr>\n",
       "    <tr>\n",
       "      <th>2</th>\n",
       "      <td>708084558</td>\n",
       "      <td>Blue</td>\n",
       "      <td>140</td>\n",
       "      <td>0</td>\n",
       "      <td>106</td>\n",
       "      <td>01-01-2023</td>\n",
       "      <td>Week-1</td>\n",
       "      <td>Q1</td>\n",
       "      <td>2023</td>\n",
       "      <td>8258.0</td>\n",
       "      <td>...</td>\n",
       "      <td>Married</td>\n",
       "      <td>NJ</td>\n",
       "      <td>91750</td>\n",
       "      <td>yes</td>\n",
       "      <td>no</td>\n",
       "      <td>no</td>\n",
       "      <td>unknown</td>\n",
       "      <td>Selfemployeed</td>\n",
       "      <td>14235</td>\n",
       "      <td>2</td>\n",
       "    </tr>\n",
       "    <tr>\n",
       "      <th>3</th>\n",
       "      <td>708085458</td>\n",
       "      <td>Blue</td>\n",
       "      <td>250</td>\n",
       "      <td>1</td>\n",
       "      <td>150</td>\n",
       "      <td>01-01-2023</td>\n",
       "      <td>Week-1</td>\n",
       "      <td>Q1</td>\n",
       "      <td>2023</td>\n",
       "      <td>1438.3</td>\n",
       "      <td>...</td>\n",
       "      <td>Single</td>\n",
       "      <td>NY</td>\n",
       "      <td>91750</td>\n",
       "      <td>no</td>\n",
       "      <td>no</td>\n",
       "      <td>no</td>\n",
       "      <td>cellular</td>\n",
       "      <td>Blue-collar</td>\n",
       "      <td>45683</td>\n",
       "      <td>1</td>\n",
       "    </tr>\n",
       "    <tr>\n",
       "      <th>4</th>\n",
       "      <td>708086958</td>\n",
       "      <td>Blue</td>\n",
       "      <td>320</td>\n",
       "      <td>1</td>\n",
       "      <td>106</td>\n",
       "      <td>01-01-2023</td>\n",
       "      <td>Week-1</td>\n",
       "      <td>Q1</td>\n",
       "      <td>2023</td>\n",
       "      <td>3128.0</td>\n",
       "      <td>...</td>\n",
       "      <td>Single</td>\n",
       "      <td>TX</td>\n",
       "      <td>91750</td>\n",
       "      <td>yes</td>\n",
       "      <td>yes</td>\n",
       "      <td>no</td>\n",
       "      <td>cellular</td>\n",
       "      <td>Businessman</td>\n",
       "      <td>59279</td>\n",
       "      <td>1</td>\n",
       "    </tr>\n",
       "  </tbody>\n",
       "</table>\n",
       "<p>5 rows × 32 columns</p>\n",
       "</div>"
      ],
      "text/plain": [
       "   Client_Num Card_Category  Annual_Fees  Activation_30_Days  \\\n",
       "0   708082083          Blue          200                   0   \n",
       "1   708083283          Blue          445                   1   \n",
       "2   708084558          Blue          140                   0   \n",
       "3   708085458          Blue          250                   1   \n",
       "4   708086958          Blue          320                   1   \n",
       "\n",
       "   Customer_Acq_Cost Week_Start_Date Week_Num Qtr  current_year  Credit_Limit  \\\n",
       "0                 87      01-01-2023   Week-1  Q1          2023        3544.0   \n",
       "1                108      01-01-2023   Week-1  Q1          2023        3421.0   \n",
       "2                106      01-01-2023   Week-1  Q1          2023        8258.0   \n",
       "3                150      01-01-2023   Week-1  Q1          2023        1438.3   \n",
       "4                106      01-01-2023   Week-1  Q1          2023        3128.0   \n",
       "\n",
       "   ...  Marital_Status  state_cd  Zipcode  Car_Owner House_Owner  \\\n",
       "0  ...          Single        FL    91750         no         yes   \n",
       "1  ...         Married        NJ    91750         no          no   \n",
       "2  ...         Married        NJ    91750        yes          no   \n",
       "3  ...          Single        NY    91750         no          no   \n",
       "4  ...          Single        TX    91750        yes         yes   \n",
       "\n",
       "  Personal_loan   contact   Customer_Job  Income Cust_Satisfaction_Score  \n",
       "0            no   unknown    Businessman  202326                       3  \n",
       "1            no  cellular  Selfemployeed    5225                       2  \n",
       "2            no   unknown  Selfemployeed   14235                       2  \n",
       "3            no  cellular    Blue-collar   45683                       1  \n",
       "4            no  cellular    Businessman   59279                       1  \n",
       "\n",
       "[5 rows x 32 columns]"
      ]
     },
     "execution_count": 83,
     "metadata": {},
     "output_type": "execute_result"
    }
   ],
   "source": [
    "combined_df.head()"
   ]
  },
  {
   "cell_type": "markdown",
   "id": "58574f95-355b-4092-a939-5d45224fad8f",
   "metadata": {},
   "source": [
    "###  SQL Analyses"
   ]
  },
  {
   "cell_type": "markdown",
   "id": "5e948cd1-a594-41a9-9e75-55e481fa3309",
   "metadata": {},
   "source": [
    "### 1. 🎓 Average Credit Limit by Education Level\n",
    "We will calculate the average credit limit for customers across different education levels."
   ]
  },
  {
   "cell_type": "markdown",
   "id": "796b96a3-92b8-4639-93d1-02717ada2701",
   "metadata": {},
   "source": [
    "##### SQL query to calculate average credit limit by education level"
   ]
  },
  {
   "cell_type": "code",
   "execution_count": 90,
   "id": "b07d14b5-4015-4b15-a100-9b0cde89c335",
   "metadata": {},
   "outputs": [],
   "source": [
    "query = \"\"\"\n",
    "SELECT \n",
    "    Education_Level, \n",
    "    AVG(Credit_Limit) AS Avg_Credit_Limit \n",
    "FROM \n",
    "    credit_card cc\n",
    "JOIN \n",
    "    customer cu \n",
    "ON \n",
    "    cc.Client_Num = cu.Client_Num\n",
    "GROUP BY \n",
    "    Education_Level\n",
    "\"\"\""
   ]
  },
  {
   "cell_type": "markdown",
   "id": "8493a238-a726-4c51-99e5-075de10fd9a0",
   "metadata": {},
   "source": [
    "##### Execute the query and load the result into a DataFrame"
   ]
  },
  {
   "cell_type": "code",
   "execution_count": 93,
   "id": "a32178ff-6d5f-4e47-9afa-e2de3be4e3b3",
   "metadata": {},
   "outputs": [],
   "source": [
    "education_credit_limit_df = pd.read_sql(query, conn)"
   ]
  },
  {
   "cell_type": "markdown",
   "id": "5f019b75-68c1-43ef-be21-e2e84685773d",
   "metadata": {},
   "source": [
    "##### Diplay result"
   ]
  },
  {
   "cell_type": "code",
   "execution_count": 99,
   "id": "9a2243d4-1293-451c-b68d-78f49c5fbb29",
   "metadata": {},
   "outputs": [
    {
     "data": {
      "text/html": [
       "<div>\n",
       "<style scoped>\n",
       "    .dataframe tbody tr th:only-of-type {\n",
       "        vertical-align: middle;\n",
       "    }\n",
       "\n",
       "    .dataframe tbody tr th {\n",
       "        vertical-align: top;\n",
       "    }\n",
       "\n",
       "    .dataframe thead th {\n",
       "        text-align: right;\n",
       "    }\n",
       "</style>\n",
       "<table border=\"1\" class=\"dataframe\">\n",
       "  <thead>\n",
       "    <tr style=\"text-align: right;\">\n",
       "      <th></th>\n",
       "      <th>Education_Level</th>\n",
       "      <th>Avg_Credit_Limit</th>\n",
       "    </tr>\n",
       "  </thead>\n",
       "  <tbody>\n",
       "    <tr>\n",
       "      <th>0</th>\n",
       "      <td>Doctorate</td>\n",
       "      <td>8615.492461</td>\n",
       "    </tr>\n",
       "    <tr>\n",
       "      <th>1</th>\n",
       "      <td>Graduate</td>\n",
       "      <td>8683.456459</td>\n",
       "    </tr>\n",
       "    <tr>\n",
       "      <th>2</th>\n",
       "      <td>High School</td>\n",
       "      <td>8488.589647</td>\n",
       "    </tr>\n",
       "    <tr>\n",
       "      <th>3</th>\n",
       "      <td>Post-Graduate</td>\n",
       "      <td>8598.775775</td>\n",
       "    </tr>\n",
       "    <tr>\n",
       "      <th>4</th>\n",
       "      <td>Uneducated</td>\n",
       "      <td>8712.561497</td>\n",
       "    </tr>\n",
       "    <tr>\n",
       "      <th>5</th>\n",
       "      <td>Unknown</td>\n",
       "      <td>8643.437492</td>\n",
       "    </tr>\n",
       "  </tbody>\n",
       "</table>\n",
       "</div>"
      ],
      "text/plain": [
       "  Education_Level  Avg_Credit_Limit\n",
       "0       Doctorate       8615.492461\n",
       "1        Graduate       8683.456459\n",
       "2     High School       8488.589647\n",
       "3   Post-Graduate       8598.775775\n",
       "4      Uneducated       8712.561497\n",
       "5         Unknown       8643.437492"
      ]
     },
     "execution_count": 99,
     "metadata": {},
     "output_type": "execute_result"
    }
   ],
   "source": [
    "education_credit_limit_df"
   ]
  },
  {
   "cell_type": "markdown",
   "id": "59863469-5a0c-4642-9988-f522c33dcaa8",
   "metadata": {},
   "source": [
    "##### Visualize the average credit limit by education level"
   ]
  },
  {
   "cell_type": "code",
   "execution_count": 102,
   "id": "dc15db3d-3164-4744-8022-0394ee482fab",
   "metadata": {},
   "outputs": [
    {
     "data": {
      "image/png": "[encoded data removed]",
      "text/plain": [
       "<Figure size 1000x600 with 1 Axes>"
      ]
     },
     "metadata": {},
     "output_type": "display_data"
    }
   ],
   "source": [
    "plt.figure(figsize=(10, 6))\n",
    "sns.barplot(x=\"Education_Level\", y=\"Avg_Credit_Limit\", data=education_credit_limit_df)\n",
    "plt.title(\"Average Credit Limit by Education Level\")\n",
    "plt.xlabel(\"Education Level\")\n",
    "plt.ylabel(\"Average Credit Limit\")\n",
    "plt.xticks(rotation=45)\n",
    "plt.show()"
   ]
  },
  {
   "cell_type": "markdown",
   "id": "773354dd-ce12-4927-bf9c-9598bc9ef7b2",
   "metadata": {},
   "source": [
    "### 2. 💼 Credit Card Usage by Customer Job Type\n",
    "We'll examine how credit card usage varies based on the customer's job type."
   ]
  },
  {
   "cell_type": "markdown",
   "id": "e09b1277-9950-44c5-baf2-aa03c2cd3823",
   "metadata": {},
   "source": [
    "##### SQL query to analyze credit card usage by job type"
   ]
  },
  {
   "cell_type": "code",
   "execution_count": 108,
   "id": "14ed8ce6-ebe4-4cf6-bd26-45867558e98e",
   "metadata": {},
   "outputs": [],
   "source": [
    "query = \"\"\"\n",
    "SELECT \n",
    "    Customer_Job, \n",
    "    SUM(Total_Trans_Amt) AS Total_Trans_Amt, \n",
    "    SUM(Total_Trans_Vol) AS Total_Trans_Vol \n",
    "FROM \n",
    "    credit_card cc\n",
    "JOIN \n",
    "    customer cu \n",
    "ON \n",
    "    cc.Client_Num = cu.Client_Num\n",
    "GROUP BY \n",
    "    Customer_Job\n",
    "ORDER BY \n",
    "    Total_Trans_Amt DESC\n",
    "\"\"\"\n"
   ]
  },
  {
   "cell_type": "markdown",
   "id": "b28b620b-c6a7-4025-9d15-2fceed178569",
   "metadata": {},
   "source": [
    "##### Execute the query and load the result into a DataFrame"
   ]
  },
  {
   "cell_type": "code",
   "execution_count": 111,
   "id": "b38c0524-5f2d-4f2e-a6a3-71232067f46e",
   "metadata": {},
   "outputs": [],
   "source": [
    "job_credit_usage_df = pd.read_sql(query, conn)"
   ]
  },
  {
   "cell_type": "markdown",
   "id": "a809d9e7-7023-46cf-9b0c-66e09329b6dc",
   "metadata": {},
   "source": [
    "##### Display result"
   ]
  },
  {
   "cell_type": "code",
   "execution_count": 114,
   "id": "144ea8ff-1aa5-48a1-bf54-6fd8fb21369a",
   "metadata": {},
   "outputs": [
    {
     "data": {
      "text/html": [
       "<div>\n",
       "<style scoped>\n",
       "    .dataframe tbody tr th:only-of-type {\n",
       "        vertical-align: middle;\n",
       "    }\n",
       "\n",
       "    .dataframe tbody tr th {\n",
       "        vertical-align: top;\n",
       "    }\n",
       "\n",
       "    .dataframe thead th {\n",
       "        text-align: right;\n",
       "    }\n",
       "</style>\n",
       "<table border=\"1\" class=\"dataframe\">\n",
       "  <thead>\n",
       "    <tr style=\"text-align: right;\">\n",
       "      <th></th>\n",
       "      <th>Customer_Job</th>\n",
       "      <th>Total_Trans_Amt</th>\n",
       "      <th>Total_Trans_Vol</th>\n",
       "    </tr>\n",
       "  </thead>\n",
       "  <tbody>\n",
       "    <tr>\n",
       "      <th>0</th>\n",
       "      <td>Businessman</td>\n",
       "      <td>14285412</td>\n",
       "      <td>154200</td>\n",
       "    </tr>\n",
       "    <tr>\n",
       "      <th>1</th>\n",
       "      <td>White-collar</td>\n",
       "      <td>8221742</td>\n",
       "      <td>111733</td>\n",
       "    </tr>\n",
       "    <tr>\n",
       "      <th>2</th>\n",
       "      <td>Govt</td>\n",
       "      <td>6507875</td>\n",
       "      <td>104785</td>\n",
       "    </tr>\n",
       "    <tr>\n",
       "      <th>3</th>\n",
       "      <td>Selfemployeed</td>\n",
       "      <td>6395026</td>\n",
       "      <td>124977</td>\n",
       "    </tr>\n",
       "    <tr>\n",
       "      <th>4</th>\n",
       "      <td>Blue-collar</td>\n",
       "      <td>5488838</td>\n",
       "      <td>95602</td>\n",
       "    </tr>\n",
       "    <tr>\n",
       "      <th>5</th>\n",
       "      <td>Retirees</td>\n",
       "      <td>3623120</td>\n",
       "      <td>64354</td>\n",
       "    </tr>\n",
       "  </tbody>\n",
       "</table>\n",
       "</div>"
      ],
      "text/plain": [
       "    Customer_Job  Total_Trans_Amt  Total_Trans_Vol\n",
       "0    Businessman         14285412           154200\n",
       "1   White-collar          8221742           111733\n",
       "2           Govt          6507875           104785\n",
       "3  Selfemployeed          6395026           124977\n",
       "4    Blue-collar          5488838            95602\n",
       "5       Retirees          3623120            64354"
      ]
     },
     "execution_count": 114,
     "metadata": {},
     "output_type": "execute_result"
    }
   ],
   "source": [
    "job_credit_usage_df"
   ]
  },
  {
   "cell_type": "markdown",
   "id": "88d5255e-8b09-4c3a-8801-ecc5ea2e43c4",
   "metadata": {},
   "source": [
    "##### Visualize credit card usage by job type"
   ]
  },
  {
   "cell_type": "code",
   "execution_count": 117,
   "id": "87dc77c4-6281-4976-a277-2c87d6c7400e",
   "metadata": {},
   "outputs": [
    {
     "data": {
      "image/png": "[encoded data removed]",
      "text/plain": [
       "<Figure size 1000x600 with 1 Axes>"
      ]
     },
     "metadata": {},
     "output_type": "display_data"
    }
   ],
   "source": [
    "plt.figure(figsize=(10, 6))\n",
    "sns.barplot(x=\"Customer_Job\", y=\"Total_Trans_Amt\", data=job_credit_usage_df)\n",
    "plt.title(\"Credit Card Usage by Customer Job Type\")\n",
    "plt.xlabel(\"Customer Job\")\n",
    "plt.ylabel(\"Total Transaction Amount\")\n",
    "plt.xticks(rotation=90)\n",
    "plt.show()"
   ]
  },
  {
   "cell_type": "markdown",
   "id": "5218e3f0-86c2-4993-b854-793e22b14e75",
   "metadata": {},
   "source": [
    "### 3. 👫 Gender Distribution in Credit Card Categories\n",
    "We'll explore the distribution of different credit card categories between male and female customers."
   ]
  },
  {
   "cell_type": "markdown",
   "id": "a77f5163-237a-4f41-82a2-595011aa3cf8",
   "metadata": {},
   "source": [
    "##### SQL query to analyze gender distribution in credit card categories"
   ]
  },
  {
   "cell_type": "code",
   "execution_count": 121,
   "id": "32e8731e-1056-4f09-84d5-f0a454cd2779",
   "metadata": {},
   "outputs": [],
   "source": [
    "query = \"\"\"\n",
    "SELECT \n",
    "    Gender, \n",
    "    Card_Category, \n",
    "    COUNT(*) AS Count \n",
    "FROM \n",
    "    credit_card cc\n",
    "JOIN \n",
    "    customer cu \n",
    "ON \n",
    "    cc.Client_Num = cu.Client_Num\n",
    "GROUP BY \n",
    "    Gender, \n",
    "    Card_Category\n",
    "ORDER BY \n",
    "    Gender, \n",
    "    Card_Category\n",
    "\"\"\""
   ]
  },
  {
   "cell_type": "markdown",
   "id": "82bccb0d-ff8b-4d56-8ae0-3c4195a90457",
   "metadata": {},
   "source": [
    "##### Execute the query and load the result into a DataFrame"
   ]
  },
  {
   "cell_type": "code",
   "execution_count": 124,
   "id": "eb0f3e5d-1e65-4f01-b4ea-8cb0fc9868e9",
   "metadata": {},
   "outputs": [],
   "source": [
    "gender_card_category_df = pd.read_sql(query, conn)"
   ]
  },
  {
   "cell_type": "markdown",
   "id": "39d1a158-f65f-4a45-9b73-5a5a161e1372",
   "metadata": {},
   "source": [
    "##### Display result"
   ]
  },
  {
   "cell_type": "code",
   "execution_count": 130,
   "id": "d37965b6-ce57-430f-a4b6-b475aba151c0",
   "metadata": {},
   "outputs": [
    {
     "data": {
      "text/html": [
       "<div>\n",
       "<style scoped>\n",
       "    .dataframe tbody tr th:only-of-type {\n",
       "        vertical-align: middle;\n",
       "    }\n",
       "\n",
       "    .dataframe tbody tr th {\n",
       "        vertical-align: top;\n",
       "    }\n",
       "\n",
       "    .dataframe thead th {\n",
       "        text-align: right;\n",
       "    }\n",
       "</style>\n",
       "<table border=\"1\" class=\"dataframe\">\n",
       "  <thead>\n",
       "    <tr style=\"text-align: right;\">\n",
       "      <th></th>\n",
       "      <th>Gender</th>\n",
       "      <th>Card_Category</th>\n",
       "      <th>Count</th>\n",
       "    </tr>\n",
       "  </thead>\n",
       "  <tbody>\n",
       "    <tr>\n",
       "      <th>0</th>\n",
       "      <td>F</td>\n",
       "      <td>Blue</td>\n",
       "      <td>5385</td>\n",
       "    </tr>\n",
       "    <tr>\n",
       "      <th>1</th>\n",
       "      <td>F</td>\n",
       "      <td>Gold</td>\n",
       "      <td>96</td>\n",
       "    </tr>\n",
       "    <tr>\n",
       "      <th>2</th>\n",
       "      <td>F</td>\n",
       "      <td>Platinum</td>\n",
       "      <td>34</td>\n",
       "    </tr>\n",
       "    <tr>\n",
       "      <th>3</th>\n",
       "      <td>F</td>\n",
       "      <td>Silver</td>\n",
       "      <td>365</td>\n",
       "    </tr>\n",
       "    <tr>\n",
       "      <th>4</th>\n",
       "      <td>M</td>\n",
       "      <td>Blue</td>\n",
       "      <td>3829</td>\n",
       "    </tr>\n",
       "    <tr>\n",
       "      <th>5</th>\n",
       "      <td>M</td>\n",
       "      <td>Gold</td>\n",
       "      <td>92</td>\n",
       "    </tr>\n",
       "    <tr>\n",
       "      <th>6</th>\n",
       "      <td>M</td>\n",
       "      <td>Platinum</td>\n",
       "      <td>33</td>\n",
       "    </tr>\n",
       "    <tr>\n",
       "      <th>7</th>\n",
       "      <td>M</td>\n",
       "      <td>Silver</td>\n",
       "      <td>274</td>\n",
       "    </tr>\n",
       "  </tbody>\n",
       "</table>\n",
       "</div>"
      ],
      "text/plain": [
       "  Gender Card_Category  Count\n",
       "0      F          Blue   5385\n",
       "1      F          Gold     96\n",
       "2      F      Platinum     34\n",
       "3      F        Silver    365\n",
       "4      M          Blue   3829\n",
       "5      M          Gold     92\n",
       "6      M      Platinum     33\n",
       "7      M        Silver    274"
      ]
     },
     "execution_count": 130,
     "metadata": {},
     "output_type": "execute_result"
    }
   ],
   "source": [
    "gender_card_category_df"
   ]
  },
  {
   "cell_type": "markdown",
   "id": "5842c58f-e197-4a1b-bee3-2ad87e0660af",
   "metadata": {},
   "source": [
    "##### Visualize gender distribution in credit card categories"
   ]
  },
  {
   "cell_type": "code",
   "execution_count": 290,
   "id": "994e0bb5-c44a-4e33-98c5-faa18a18a845",
   "metadata": {},
   "outputs": [
    {
     "data": {
      "text/plain": [
       "<Figure size 1200x600 with 0 Axes>"
      ]
     },
     "metadata": {},
     "output_type": "display_data"
    },
    {
     "data": {
      "image/png": "[encoded data removed]",
      "text/plain": [
       "<Figure size 1200x600 with 1 Axes>"
      ]
     },
     "metadata": {},
     "output_type": "display_data"
    }
   ],
   "source": [
    "plt.figure(figsize=(12, 6)) # Set up the figure\n",
    "gender_card_category_pivot = gender_card_category_df.pivot_table(\n",
    "    index='Card_Category', \n",
    "    columns='Gender',  # Create a pivot table for stacked bar chart\n",
    "    values='Count', \n",
    "    aggfunc='sum'\n",
    ")\n",
    "gender_card_category_pivot.plot(kind='bar', stacked=True, figsize=(12, 6), colormap='viridis') # Plot the stacked bar chart\n",
    "plt.title(\"Gender Distribution in Credit Card Categories\") # Add title and labels\n",
    "plt.xlabel(\"Card Category\")\n",
    "plt.ylabel(\"Count\")\n",
    "plt.legend(title=\"Gender\")\n",
    "plt.xticks(rotation=45)\n",
    "plt.show() # Show the plot"
   ]
  },
  {
   "cell_type": "markdown",
   "id": "ed038bdf-6898-4f88-aae5-4764ec6c0023",
   "metadata": {},
   "source": [
    "### 4. 🏠 House Ownership and Credit Utilization\n",
    "We'll examine whether house ownership influences credit card utilization."
   ]
  },
  {
   "cell_type": "markdown",
   "id": "672bcab7-e88e-4f3c-b8fb-a98ae89e995c",
   "metadata": {},
   "source": [
    "##### SQL query to analyze credit utilization by house ownership"
   ]
  },
  {
   "cell_type": "code",
   "execution_count": 134,
   "id": "01514449-62a0-479a-b8fb-0d0a56c1e701",
   "metadata": {},
   "outputs": [],
   "source": [
    "query = \"\"\"\n",
    "SELECT \n",
    "    House_Owner, \n",
    "    AVG(Avg_Utilization_Ratio) AS Avg_Utilization_Ratio \n",
    "FROM \n",
    "    credit_card cc\n",
    "JOIN \n",
    "    customer cu \n",
    "ON \n",
    "    cc.Client_Num = cu.Client_Num\n",
    "GROUP BY \n",
    "    House_Owner\n",
    "\"\"\""
   ]
  },
  {
   "cell_type": "markdown",
   "id": "22c9d00c-0bad-456e-90d2-edf6e4a485c8",
   "metadata": {},
   "source": [
    "##### Execute the query and load the result into a DataFrame"
   ]
  },
  {
   "cell_type": "code",
   "execution_count": 137,
   "id": "e30ff006-18f2-4b84-a694-0fe34aafc79a",
   "metadata": {},
   "outputs": [],
   "source": [
    "house_utilization_df = pd.read_sql(query, conn)"
   ]
  },
  {
   "cell_type": "markdown",
   "id": "936a67fc-4940-4a66-9e6e-b4c10c0b814e",
   "metadata": {},
   "source": [
    "##### Display Result"
   ]
  },
  {
   "cell_type": "code",
   "execution_count": 140,
   "id": "46a4c987-9326-4df5-8cf2-c3770f277c21",
   "metadata": {},
   "outputs": [
    {
     "data": {
      "text/html": [
       "<div>\n",
       "<style scoped>\n",
       "    .dataframe tbody tr th:only-of-type {\n",
       "        vertical-align: middle;\n",
       "    }\n",
       "\n",
       "    .dataframe tbody tr th {\n",
       "        vertical-align: top;\n",
       "    }\n",
       "\n",
       "    .dataframe thead th {\n",
       "        text-align: right;\n",
       "    }\n",
       "</style>\n",
       "<table border=\"1\" class=\"dataframe\">\n",
       "  <thead>\n",
       "    <tr style=\"text-align: right;\">\n",
       "      <th></th>\n",
       "      <th>House_Owner</th>\n",
       "      <th>Avg_Utilization_Ratio</th>\n",
       "    </tr>\n",
       "  </thead>\n",
       "  <tbody>\n",
       "    <tr>\n",
       "      <th>0</th>\n",
       "      <td>no</td>\n",
       "      <td>0.274160</td>\n",
       "    </tr>\n",
       "    <tr>\n",
       "      <th>1</th>\n",
       "      <td>yes</td>\n",
       "      <td>0.275639</td>\n",
       "    </tr>\n",
       "  </tbody>\n",
       "</table>\n",
       "</div>"
      ],
      "text/plain": [
       "  House_Owner  Avg_Utilization_Ratio\n",
       "0          no               0.274160\n",
       "1         yes               0.275639"
      ]
     },
     "execution_count": 140,
     "metadata": {},
     "output_type": "execute_result"
    }
   ],
   "source": [
    "house_utilization_df"
   ]
  },
  {
   "cell_type": "markdown",
   "id": "394c6779-4d0e-476c-a44e-f6b6afec96c0",
   "metadata": {},
   "source": [
    "##### Visualize credit utilization by house ownership"
   ]
  },
  {
   "cell_type": "code",
   "execution_count": 143,
   "id": "744378e1-f93b-4fa0-994d-c856461498b0",
   "metadata": {},
   "outputs": [
    {
     "data": {
      "image/png": "[encoded data removed]",
      "text/plain": [
       "<Figure size 1000x600 with 1 Axes>"
      ]
     },
     "metadata": {},
     "output_type": "display_data"
    }
   ],
   "source": [
    "plt.figure(figsize=(10, 6))\n",
    "sns.barplot(x=\"House_Owner\", y=\"Avg_Utilization_Ratio\", data=house_utilization_df)\n",
    "plt.title(\"Credit Utilization by House Ownership\")\n",
    "plt.xlabel(\"House Ownership\")\n",
    "plt.ylabel(\"Average Utilization Ratio\")\n",
    "plt.show()"
   ]
  },
  {
   "cell_type": "markdown",
   "id": "5171aea5-bedc-4b24-b11e-d0a46da9b9b3",
   "metadata": {},
   "source": [
    "### 5.💳 Credit Limit by Personal Loan Status\n",
    "We will analyze how having a personal loan affects the credit limit of customers."
   ]
  },
  {
   "cell_type": "markdown",
   "id": "cf779317-476f-4cd9-8727-986eb10fc924",
   "metadata": {},
   "source": [
    "##### SQL query to analyze credit limit by personal loan status"
   ]
  },
  {
   "cell_type": "code",
   "execution_count": 147,
   "id": "3ec51e8b-ea0b-4b18-b687-c44f13ee8d1f",
   "metadata": {},
   "outputs": [],
   "source": [
    "query = \"\"\"\n",
    "SELECT \n",
    "    Personal_loan, \n",
    "    AVG(Credit_Limit) AS Avg_Credit_Limit \n",
    "FROM \n",
    "    credit_card cc\n",
    "JOIN \n",
    "    customer cu \n",
    "ON \n",
    "    cc.Client_Num = cu.Client_Num\n",
    "GROUP BY \n",
    "    Personal_loan\n",
    "\"\"\""
   ]
  },
  {
   "cell_type": "markdown",
   "id": "38459e60-b9f7-4159-a874-7c05260185e0",
   "metadata": {},
   "source": [
    "##### Execute the query and load the result into a DataFrame"
   ]
  },
  {
   "cell_type": "code",
   "execution_count": 152,
   "id": "b4ae8550-2970-4d06-b216-1d65ceeb7fc6",
   "metadata": {},
   "outputs": [],
   "source": [
    "loan_credit_limit_df = pd.read_sql(query, conn)"
   ]
  },
  {
   "cell_type": "markdown",
   "id": "d39de1da-c7ab-45e7-9830-4fcf61a08775",
   "metadata": {},
   "source": [
    "##### Display Result"
   ]
  },
  {
   "cell_type": "code",
   "execution_count": 155,
   "id": "4bd7dee6-57b2-4930-8891-c63596c1dd5a",
   "metadata": {},
   "outputs": [
    {
     "data": {
      "text/html": [
       "<div>\n",
       "<style scoped>\n",
       "    .dataframe tbody tr th:only-of-type {\n",
       "        vertical-align: middle;\n",
       "    }\n",
       "\n",
       "    .dataframe tbody tr th {\n",
       "        vertical-align: top;\n",
       "    }\n",
       "\n",
       "    .dataframe thead th {\n",
       "        text-align: right;\n",
       "    }\n",
       "</style>\n",
       "<table border=\"1\" class=\"dataframe\">\n",
       "  <thead>\n",
       "    <tr style=\"text-align: right;\">\n",
       "      <th></th>\n",
       "      <th>Personal_loan</th>\n",
       "      <th>Avg_Credit_Limit</th>\n",
       "    </tr>\n",
       "  </thead>\n",
       "  <tbody>\n",
       "    <tr>\n",
       "      <th>0</th>\n",
       "      <td>no</td>\n",
       "      <td>8650.703956</td>\n",
       "    </tr>\n",
       "    <tr>\n",
       "      <th>1</th>\n",
       "      <td>yes</td>\n",
       "      <td>8532.322862</td>\n",
       "    </tr>\n",
       "  </tbody>\n",
       "</table>\n",
       "</div>"
      ],
      "text/plain": [
       "  Personal_loan  Avg_Credit_Limit\n",
       "0            no       8650.703956\n",
       "1           yes       8532.322862"
      ]
     },
     "execution_count": 155,
     "metadata": {},
     "output_type": "execute_result"
    }
   ],
   "source": [
    "loan_credit_limit_df"
   ]
  },
  {
   "cell_type": "markdown",
   "id": "170250c0-8669-4688-96e9-e5a090bd2616",
   "metadata": {},
   "source": [
    "##### Visualize credit limit by personal loan status"
   ]
  },
  {
   "cell_type": "code",
   "execution_count": 158,
   "id": "87edb663-7ca2-44ab-8ca9-e1aa5f4f31a6",
   "metadata": {},
   "outputs": [
    {
     "data": {
      "image/png": "[encoded data removed]",
      "text/plain": [
       "<Figure size 1000x600 with 1 Axes>"
      ]
     },
     "metadata": {},
     "output_type": "display_data"
    }
   ],
   "source": [
    "plt.figure(figsize=(10, 6))\n",
    "sns.barplot(x=\"Personal_loan\", y=\"Avg_Credit_Limit\", data=loan_credit_limit_df)\n",
    "plt.title(\"Credit Limit by Personal Loan Status\")\n",
    "plt.xlabel(\"Personal Loan Status\")\n",
    "plt.ylabel(\"Average Credit Limit\")\n",
    "plt.show()"
   ]
  },
  {
   "cell_type": "markdown",
   "id": "6e8659d6-0981-46d1-9fe7-3e297443a023",
   "metadata": {},
   "source": [
    "### 6. 🚨 Delinquency Rate by Income\n",
    "We will explore the relationship between income levels and delinquency rates."
   ]
  },
  {
   "cell_type": "markdown",
   "id": "e86f2e8e-c1b5-4bf6-be84-d4dc37989b6a",
   "metadata": {},
   "source": [
    "##### SQL query to analyze delinquency rate by income"
   ]
  },
  {
   "cell_type": "code",
   "execution_count": 162,
   "id": "5ed093b8-de85-4999-8e53-b8afb93b21c1",
   "metadata": {},
   "outputs": [],
   "source": [
    "query = \"\"\"\n",
    "SELECT \n",
    "    Income, \n",
    "    AVG(Delinquent_Acc) AS Avg_Delinquent_Acc \n",
    "FROM \n",
    "    credit_card cc\n",
    "JOIN \n",
    "    customer cu \n",
    "ON \n",
    "    cc.Client_Num = cu.Client_Num\n",
    "GROUP BY \n",
    "    Income\n",
    "\"\"\""
   ]
  },
  {
   "cell_type": "markdown",
   "id": "df10d5f5-48d8-4c37-a8fa-0f18c7c00174",
   "metadata": {},
   "source": [
    "##### Execute the query and load the result into a DataFrame"
   ]
  },
  {
   "cell_type": "code",
   "execution_count": 165,
   "id": "4af959eb-d555-4f78-8601-7d5c67573298",
   "metadata": {},
   "outputs": [],
   "source": [
    "income_delinquency_df = pd.read_sql(query, conn)"
   ]
  },
  {
   "cell_type": "markdown",
   "id": "a9851dbf-12da-41e4-bae3-ef1aa46dec0f",
   "metadata": {},
   "source": [
    "##### Display Result"
   ]
  },
  {
   "cell_type": "code",
   "execution_count": 170,
   "id": "d2471f04-a00b-4249-a4a8-0aaabe77474a",
   "metadata": {},
   "outputs": [
    {
     "data": {
      "text/html": [
       "<div>\n",
       "<style scoped>\n",
       "    .dataframe tbody tr th:only-of-type {\n",
       "        vertical-align: middle;\n",
       "    }\n",
       "\n",
       "    .dataframe tbody tr th {\n",
       "        vertical-align: top;\n",
       "    }\n",
       "\n",
       "    .dataframe thead th {\n",
       "        text-align: right;\n",
       "    }\n",
       "</style>\n",
       "<table border=\"1\" class=\"dataframe\">\n",
       "  <thead>\n",
       "    <tr style=\"text-align: right;\">\n",
       "      <th></th>\n",
       "      <th>Income</th>\n",
       "      <th>Avg_Delinquent_Acc</th>\n",
       "    </tr>\n",
       "  </thead>\n",
       "  <tbody>\n",
       "    <tr>\n",
       "      <th>0</th>\n",
       "      <td>1250</td>\n",
       "      <td>0.090909</td>\n",
       "    </tr>\n",
       "    <tr>\n",
       "      <th>1</th>\n",
       "      <td>2565</td>\n",
       "      <td>0.041667</td>\n",
       "    </tr>\n",
       "    <tr>\n",
       "      <th>2</th>\n",
       "      <td>5225</td>\n",
       "      <td>0.097561</td>\n",
       "    </tr>\n",
       "    <tr>\n",
       "      <th>3</th>\n",
       "      <td>5525</td>\n",
       "      <td>0.080645</td>\n",
       "    </tr>\n",
       "    <tr>\n",
       "      <th>4</th>\n",
       "      <td>6550</td>\n",
       "      <td>0.105263</td>\n",
       "    </tr>\n",
       "  </tbody>\n",
       "</table>\n",
       "</div>"
      ],
      "text/plain": [
       "   Income  Avg_Delinquent_Acc\n",
       "0    1250            0.090909\n",
       "1    2565            0.041667\n",
       "2    5225            0.097561\n",
       "3    5525            0.080645\n",
       "4    6550            0.105263"
      ]
     },
     "execution_count": 170,
     "metadata": {},
     "output_type": "execute_result"
    }
   ],
   "source": [
    "income_delinquency_df.head(5) "
   ]
  },
  {
   "cell_type": "markdown",
   "id": "e39d9cb6-ddd0-4b2d-8161-707874a21d40",
   "metadata": {},
   "source": [
    "### 7.🌟 Customer Satisfaction and Credit Card Features\n",
    "We will analyze how different credit card features affect customer satisfaction."
   ]
  },
  {
   "cell_type": "markdown",
   "id": "91bbf563-5221-4965-a375-1c331ef1eb3f",
   "metadata": {},
   "source": [
    "##### SQL query to analyze customer satisfaction by credit card features"
   ]
  },
  {
   "cell_type": "code",
   "execution_count": 179,
   "id": "26c08fe8-fe3c-46ac-af14-a1e5b636fbea",
   "metadata": {},
   "outputs": [],
   "source": [
    "query = \"\"\"\n",
    "SELECT \n",
    "    Card_Category, \n",
    "    AVG(Cust_Satisfaction_Score) AS Avg_Satisfaction \n",
    "FROM \n",
    "    credit_card cc\n",
    "JOIN \n",
    "    customer cu \n",
    "ON \n",
    "    cc.Client_Num = cu.Client_Num\n",
    "GROUP BY \n",
    "    Card_Category\n",
    "\"\"\""
   ]
  },
  {
   "cell_type": "markdown",
   "id": "61222577-696d-427b-92cc-687569eb4686",
   "metadata": {},
   "source": [
    "##### Execute the query and load the result into a DataFrame"
   ]
  },
  {
   "cell_type": "code",
   "execution_count": 182,
   "id": "6ea473e7-b126-471a-9830-9778637be512",
   "metadata": {},
   "outputs": [],
   "source": [
    "satisfaction_df = pd.read_sql(query, conn)"
   ]
  },
  {
   "cell_type": "markdown",
   "id": "7f53dbd7-ddcd-4fba-8b94-b61c9fba31e0",
   "metadata": {},
   "source": [
    "##### Display Result"
   ]
  },
  {
   "cell_type": "code",
   "execution_count": 185,
   "id": "070f89ec-9813-4d49-9579-a7a1eed635ae",
   "metadata": {},
   "outputs": [
    {
     "data": {
      "text/html": [
       "<div>\n",
       "<style scoped>\n",
       "    .dataframe tbody tr th:only-of-type {\n",
       "        vertical-align: middle;\n",
       "    }\n",
       "\n",
       "    .dataframe tbody tr th {\n",
       "        vertical-align: top;\n",
       "    }\n",
       "\n",
       "    .dataframe thead th {\n",
       "        text-align: right;\n",
       "    }\n",
       "</style>\n",
       "<table border=\"1\" class=\"dataframe\">\n",
       "  <thead>\n",
       "    <tr style=\"text-align: right;\">\n",
       "      <th></th>\n",
       "      <th>Card_Category</th>\n",
       "      <th>Avg_Satisfaction</th>\n",
       "    </tr>\n",
       "  </thead>\n",
       "  <tbody>\n",
       "    <tr>\n",
       "      <th>0</th>\n",
       "      <td>Blue</td>\n",
       "      <td>3.193727</td>\n",
       "    </tr>\n",
       "    <tr>\n",
       "      <th>1</th>\n",
       "      <td>Gold</td>\n",
       "      <td>3.042553</td>\n",
       "    </tr>\n",
       "    <tr>\n",
       "      <th>2</th>\n",
       "      <td>Platinum</td>\n",
       "      <td>2.716418</td>\n",
       "    </tr>\n",
       "    <tr>\n",
       "      <th>3</th>\n",
       "      <td>Silver</td>\n",
       "      <td>3.217527</td>\n",
       "    </tr>\n",
       "  </tbody>\n",
       "</table>\n",
       "</div>"
      ],
      "text/plain": [
       "  Card_Category  Avg_Satisfaction\n",
       "0          Blue          3.193727\n",
       "1          Gold          3.042553\n",
       "2      Platinum          2.716418\n",
       "3        Silver          3.217527"
      ]
     },
     "execution_count": 185,
     "metadata": {},
     "output_type": "execute_result"
    }
   ],
   "source": [
    "satisfaction_df"
   ]
  },
  {
   "cell_type": "markdown",
   "id": "c8e5b277-3761-418c-a0dc-f4de4cddd0e2",
   "metadata": {},
   "source": [
    "##### Visualize customer satisfaction by credit card features"
   ]
  },
  {
   "cell_type": "code",
   "execution_count": 188,
   "id": "17158a10-c874-4274-8576-2e39a2f7216a",
   "metadata": {},
   "outputs": [
    {
     "data": {
      "image/png": "[encoded data removed]",
      "text/plain": [
       "<Figure size 1200x600 with 1 Axes>"
      ]
     },
     "metadata": {},
     "output_type": "display_data"
    }
   ],
   "source": [
    "plt.figure(figsize=(12, 6))\n",
    "sns.barplot(x=\"Card_Category\", y=\"Avg_Satisfaction\", data=satisfaction_df)\n",
    "plt.title(\"Customer Satisfaction by Credit Card Category\")\n",
    "plt.xlabel(\"Credit Card Category\")\n",
    "plt.ylabel(\"Average Satisfaction Score\")\n",
    "plt.show()"
   ]
  },
  {
   "cell_type": "markdown",
   "id": "742a2b94-deb2-473a-9b63-00d8924bb47d",
   "metadata": {},
   "source": [
    "### 8. 📈 Activation Rate and Credit Limit\n",
    "We'll explore if higher credit limits are associated with a higher activation rate within 30 days."
   ]
  },
  {
   "cell_type": "markdown",
   "id": "5742f442-b7f0-4448-ba4d-6cc622951d8e",
   "metadata": {},
   "source": [
    "##### SQL query to analyze activation rate by credit limit"
   ]
  },
  {
   "cell_type": "code",
   "execution_count": 192,
   "id": "5f99072a-a9c0-4f83-a424-aff741ea2b54",
   "metadata": {},
   "outputs": [],
   "source": [
    "query = \"\"\"\n",
    "SELECT \n",
    "    Credit_Limit, \n",
    "    AVG(Activation_30_Days) AS Avg_Activation_30_Days \n",
    "FROM \n",
    "    credit_card cc\n",
    "GROUP BY \n",
    "    Credit_Limit\n",
    "\"\"\""
   ]
  },
  {
   "cell_type": "markdown",
   "id": "18ea99ef-7560-4c41-9c55-03427455e6fc",
   "metadata": {},
   "source": [
    "##### Execute the query and load the result into a DataFrame"
   ]
  },
  {
   "cell_type": "code",
   "execution_count": 195,
   "id": "b594dab0-613c-45ea-8fa5-f838869d54ef",
   "metadata": {},
   "outputs": [],
   "source": [
    "activation_credit_limit_df = pd.read_sql(query, conn)"
   ]
  },
  {
   "cell_type": "markdown",
   "id": "0afd4b56-f079-43bf-8449-f6ce000a991f",
   "metadata": {},
   "source": [
    "##### Display Result"
   ]
  },
  {
   "cell_type": "code",
   "execution_count": 200,
   "id": "6950d6ea-db57-45d6-85e5-f63ef4af8075",
   "metadata": {},
   "outputs": [
    {
     "data": {
      "text/html": [
       "<div>\n",
       "<style scoped>\n",
       "    .dataframe tbody tr th:only-of-type {\n",
       "        vertical-align: middle;\n",
       "    }\n",
       "\n",
       "    .dataframe tbody tr th {\n",
       "        vertical-align: top;\n",
       "    }\n",
       "\n",
       "    .dataframe thead th {\n",
       "        text-align: right;\n",
       "    }\n",
       "</style>\n",
       "<table border=\"1\" class=\"dataframe\">\n",
       "  <thead>\n",
       "    <tr style=\"text-align: right;\">\n",
       "      <th></th>\n",
       "      <th>Credit_Limit</th>\n",
       "      <th>Avg_Activation_30_Days</th>\n",
       "    </tr>\n",
       "  </thead>\n",
       "  <tbody>\n",
       "    <tr>\n",
       "      <th>0</th>\n",
       "      <td>1438.3</td>\n",
       "      <td>0.584158</td>\n",
       "    </tr>\n",
       "    <tr>\n",
       "      <th>1</th>\n",
       "      <td>1439.0</td>\n",
       "      <td>0.000000</td>\n",
       "    </tr>\n",
       "    <tr>\n",
       "      <th>2</th>\n",
       "      <td>1440.0</td>\n",
       "      <td>1.000000</td>\n",
       "    </tr>\n",
       "    <tr>\n",
       "      <th>3</th>\n",
       "      <td>1441.0</td>\n",
       "      <td>0.500000</td>\n",
       "    </tr>\n",
       "    <tr>\n",
       "      <th>4</th>\n",
       "      <td>1442.0</td>\n",
       "      <td>1.000000</td>\n",
       "    </tr>\n",
       "  </tbody>\n",
       "</table>\n",
       "</div>"
      ],
      "text/plain": [
       "   Credit_Limit  Avg_Activation_30_Days\n",
       "0        1438.3                0.584158\n",
       "1        1439.0                0.000000\n",
       "2        1440.0                1.000000\n",
       "3        1441.0                0.500000\n",
       "4        1442.0                1.000000"
      ]
     },
     "execution_count": 200,
     "metadata": {},
     "output_type": "execute_result"
    }
   ],
   "source": [
    "activation_credit_limit_df.head()"
   ]
  },
  {
   "cell_type": "markdown",
   "id": "a93e1966-9900-48cc-a8bd-335e18c0f828",
   "metadata": {},
   "source": [
    "### 9. 👴 Credit Card Category Distribution Across Age Groups\n",
    "We'll analyze how credit card categories are distributed among different age groups."
   ]
  },
  {
   "cell_type": "markdown",
   "id": "d9ad4cdc-ad07-40ce-85c4-25af913ef7f8",
   "metadata": {},
   "source": [
    "##### SQL query to analyze credit card categories by age group"
   ]
  },
  {
   "cell_type": "code",
   "execution_count": 207,
   "id": "a12dba32-f6fc-4c7a-a916-28939a02b662",
   "metadata": {},
   "outputs": [],
   "source": [
    "query = \"\"\"\n",
    "SELECT \n",
    "    CASE \n",
    "        WHEN Customer_Age BETWEEN 18 AND 25 THEN '18-25'\n",
    "        WHEN Customer_Age BETWEEN 26 AND 35 THEN '26-35'\n",
    "        WHEN Customer_Age BETWEEN 36 AND 45 THEN '36-45'\n",
    "        WHEN Customer_Age BETWEEN 46 AND 55 THEN '46-55'\n",
    "        ELSE '56+' \n",
    "    END AS Age_Group, \n",
    "    Card_Category, \n",
    "    COUNT(*) AS Count \n",
    "FROM \n",
    "    credit_card cc\n",
    "JOIN \n",
    "    customer cu \n",
    "ON \n",
    "    cc.Client_Num = cu.Client_Num\n",
    "GROUP BY \n",
    "    Age_Group, \n",
    "    Card_Category\n",
    "ORDER BY \n",
    "    Age_Group\n",
    "\"\"\""
   ]
  },
  {
   "cell_type": "markdown",
   "id": "038206b2-d02d-46ba-aeec-18f7b6e638a4",
   "metadata": {},
   "source": [
    "##### Execute the query and load the result into a DataFrame"
   ]
  },
  {
   "cell_type": "code",
   "execution_count": 210,
   "id": "21caa2f1-1e82-470f-bf04-65ac77caeef8",
   "metadata": {},
   "outputs": [],
   "source": [
    "age_card_category_df = pd.read_sql(query, conn)"
   ]
  },
  {
   "cell_type": "markdown",
   "id": "d63b8525-4ace-448f-ae11-3c456c2268b4",
   "metadata": {},
   "source": [
    "##### Display Result"
   ]
  },
  {
   "cell_type": "code",
   "execution_count": 213,
   "id": "d8f6c6a5-65e8-4df9-9d0b-3bda62a8b103",
   "metadata": {},
   "outputs": [
    {
     "data": {
      "text/html": [
       "<div>\n",
       "<style scoped>\n",
       "    .dataframe tbody tr th:only-of-type {\n",
       "        vertical-align: middle;\n",
       "    }\n",
       "\n",
       "    .dataframe tbody tr th {\n",
       "        vertical-align: top;\n",
       "    }\n",
       "\n",
       "    .dataframe thead th {\n",
       "        text-align: right;\n",
       "    }\n",
       "</style>\n",
       "<table border=\"1\" class=\"dataframe\">\n",
       "  <thead>\n",
       "    <tr style=\"text-align: right;\">\n",
       "      <th></th>\n",
       "      <th>Age_Group</th>\n",
       "      <th>Card_Category</th>\n",
       "      <th>Count</th>\n",
       "    </tr>\n",
       "  </thead>\n",
       "  <tbody>\n",
       "    <tr>\n",
       "      <th>0</th>\n",
       "      <td>18-25</td>\n",
       "      <td>Blue</td>\n",
       "      <td>15</td>\n",
       "    </tr>\n",
       "    <tr>\n",
       "      <th>1</th>\n",
       "      <td>18-25</td>\n",
       "      <td>Gold</td>\n",
       "      <td>3</td>\n",
       "    </tr>\n",
       "    <tr>\n",
       "      <th>2</th>\n",
       "      <td>18-25</td>\n",
       "      <td>Silver</td>\n",
       "      <td>2</td>\n",
       "    </tr>\n",
       "    <tr>\n",
       "      <th>3</th>\n",
       "      <td>26-35</td>\n",
       "      <td>Blue</td>\n",
       "      <td>852</td>\n",
       "    </tr>\n",
       "    <tr>\n",
       "      <th>4</th>\n",
       "      <td>26-35</td>\n",
       "      <td>Gold</td>\n",
       "      <td>4</td>\n",
       "    </tr>\n",
       "    <tr>\n",
       "      <th>5</th>\n",
       "      <td>26-35</td>\n",
       "      <td>Platinum</td>\n",
       "      <td>3</td>\n",
       "    </tr>\n",
       "    <tr>\n",
       "      <th>6</th>\n",
       "      <td>26-35</td>\n",
       "      <td>Silver</td>\n",
       "      <td>59</td>\n",
       "    </tr>\n",
       "    <tr>\n",
       "      <th>7</th>\n",
       "      <td>36-45</td>\n",
       "      <td>Blue</td>\n",
       "      <td>3445</td>\n",
       "    </tr>\n",
       "    <tr>\n",
       "      <th>8</th>\n",
       "      <td>36-45</td>\n",
       "      <td>Gold</td>\n",
       "      <td>57</td>\n",
       "    </tr>\n",
       "    <tr>\n",
       "      <th>9</th>\n",
       "      <td>36-45</td>\n",
       "      <td>Platinum</td>\n",
       "      <td>21</td>\n",
       "    </tr>\n",
       "    <tr>\n",
       "      <th>10</th>\n",
       "      <td>36-45</td>\n",
       "      <td>Silver</td>\n",
       "      <td>212</td>\n",
       "    </tr>\n",
       "    <tr>\n",
       "      <th>11</th>\n",
       "      <td>46-55</td>\n",
       "      <td>Blue</td>\n",
       "      <td>3691</td>\n",
       "    </tr>\n",
       "    <tr>\n",
       "      <th>12</th>\n",
       "      <td>46-55</td>\n",
       "      <td>Gold</td>\n",
       "      <td>100</td>\n",
       "    </tr>\n",
       "    <tr>\n",
       "      <th>13</th>\n",
       "      <td>46-55</td>\n",
       "      <td>Platinum</td>\n",
       "      <td>34</td>\n",
       "    </tr>\n",
       "    <tr>\n",
       "      <th>14</th>\n",
       "      <td>46-55</td>\n",
       "      <td>Silver</td>\n",
       "      <td>279</td>\n",
       "    </tr>\n",
       "    <tr>\n",
       "      <th>15</th>\n",
       "      <td>56+</td>\n",
       "      <td>Blue</td>\n",
       "      <td>1211</td>\n",
       "    </tr>\n",
       "    <tr>\n",
       "      <th>16</th>\n",
       "      <td>56+</td>\n",
       "      <td>Gold</td>\n",
       "      <td>24</td>\n",
       "    </tr>\n",
       "    <tr>\n",
       "      <th>17</th>\n",
       "      <td>56+</td>\n",
       "      <td>Platinum</td>\n",
       "      <td>9</td>\n",
       "    </tr>\n",
       "    <tr>\n",
       "      <th>18</th>\n",
       "      <td>56+</td>\n",
       "      <td>Silver</td>\n",
       "      <td>87</td>\n",
       "    </tr>\n",
       "  </tbody>\n",
       "</table>\n",
       "</div>"
      ],
      "text/plain": [
       "   Age_Group Card_Category  Count\n",
       "0      18-25          Blue     15\n",
       "1      18-25          Gold      3\n",
       "2      18-25        Silver      2\n",
       "3      26-35          Blue    852\n",
       "4      26-35          Gold      4\n",
       "5      26-35      Platinum      3\n",
       "6      26-35        Silver     59\n",
       "7      36-45          Blue   3445\n",
       "8      36-45          Gold     57\n",
       "9      36-45      Platinum     21\n",
       "10     36-45        Silver    212\n",
       "11     46-55          Blue   3691\n",
       "12     46-55          Gold    100\n",
       "13     46-55      Platinum     34\n",
       "14     46-55        Silver    279\n",
       "15       56+          Blue   1211\n",
       "16       56+          Gold     24\n",
       "17       56+      Platinum      9\n",
       "18       56+        Silver     87"
      ]
     },
     "execution_count": 213,
     "metadata": {},
     "output_type": "execute_result"
    }
   ],
   "source": [
    "age_card_category_df "
   ]
  },
  {
   "cell_type": "markdown",
   "id": "bc763fdb-cf65-4a7a-a9bd-f89e4e986e61",
   "metadata": {},
   "source": [
    "##### Visualize credit card category distribution across age groups"
   ]
  },
  {
   "cell_type": "code",
   "execution_count": 237,
   "id": "6ec9dfcd-0c9f-4fdb-99d9-112f1e48b748",
   "metadata": {},
   "outputs": [
    {
     "data": {
      "image/png": "[encoded data removed]",
      "text/plain": [
       "<Figure size 1200x600 with 1 Axes>"
      ]
     },
     "metadata": {},
     "output_type": "display_data"
    }
   ],
   "source": [
    "plt.figure(figsize=(12, 6))\n",
    "sns.histplot(data=age_card_category_df, x=\"Age_Group\", hue=\"Card_Category\", multiple=\"stack\", shrink=0.8)\n",
    "plt.title(\"Credit Card Category Distribution Across Age Groups\")\n",
    "plt.xlabel(\"Age Group\")\n",
    "plt.ylabel(\"Count\")\n",
    "plt.show()"
   ]
  },
  {
   "cell_type": "markdown",
   "id": "5766f3f1-8828-493a-82f7-0a67deb568fc",
   "metadata": {},
   "source": [
    "### 10. 🗺️ State-wise Credit Card Usage\n",
    "We'll conduct a state-wise analysis of total credit card usage."
   ]
  },
  {
   "cell_type": "markdown",
   "id": "0c549b6a-3e98-4bc6-9156-fd074270bfa3",
   "metadata": {},
   "source": [
    "##### SQL query to analyze state-wise credit card usage"
   ]
  },
  {
   "cell_type": "code",
   "execution_count": 220,
   "id": "0bf5e6c2-fbda-4478-9eca-2dcb57c8ca40",
   "metadata": {},
   "outputs": [],
   "source": [
    "query = \"\"\"\n",
    "SELECT \n",
    "    state_cd, \n",
    "    SUM(Total_Trans_Amt) AS Total_Trans_Amt, \n",
    "    SUM(Total_Trans_Vol) AS Total_Trans_Vol \n",
    "FROM \n",
    "    credit_card cc\n",
    "JOIN \n",
    "    customer cu \n",
    "ON \n",
    "    cc.Client_Num = cu.Client_Num\n",
    "GROUP BY \n",
    "    state_cd\n",
    "ORDER BY \n",
    "    Total_Trans_Amt DESC\n",
    "\"\"\""
   ]
  },
  {
   "cell_type": "markdown",
   "id": "c887ca8c-46dd-44aa-9bdc-4d996cde9b72",
   "metadata": {},
   "source": [
    "##### Execute the query and load the result into a DataFrame"
   ]
  },
  {
   "cell_type": "code",
   "execution_count": 223,
   "id": "e8ba6042-9bbf-4a77-91a9-281af8f8482d",
   "metadata": {},
   "outputs": [],
   "source": [
    "state_usage_df = pd.read_sql(query, conn)"
   ]
  },
  {
   "cell_type": "markdown",
   "id": "14d8e9e6-7536-4727-bf50-0b0fe50a44fb",
   "metadata": {},
   "source": [
    "##### Display Result"
   ]
  },
  {
   "cell_type": "code",
   "execution_count": 226,
   "id": "af7afb26-ba49-454c-b48b-634d61fe7a1d",
   "metadata": {},
   "outputs": [
    {
     "data": {
      "text/html": [
       "<div>\n",
       "<style scoped>\n",
       "    .dataframe tbody tr th:only-of-type {\n",
       "        vertical-align: middle;\n",
       "    }\n",
       "\n",
       "    .dataframe tbody tr th {\n",
       "        vertical-align: top;\n",
       "    }\n",
       "\n",
       "    .dataframe thead th {\n",
       "        text-align: right;\n",
       "    }\n",
       "</style>\n",
       "<table border=\"1\" class=\"dataframe\">\n",
       "  <thead>\n",
       "    <tr style=\"text-align: right;\">\n",
       "      <th></th>\n",
       "      <th>state_cd</th>\n",
       "      <th>Total_Trans_Amt</th>\n",
       "      <th>Total_Trans_Vol</th>\n",
       "    </tr>\n",
       "  </thead>\n",
       "  <tbody>\n",
       "    <tr>\n",
       "      <th>0</th>\n",
       "      <td>TX</td>\n",
       "      <td>10314288</td>\n",
       "      <td>152476</td>\n",
       "    </tr>\n",
       "    <tr>\n",
       "      <th>1</th>\n",
       "      <td>NY</td>\n",
       "      <td>10258352</td>\n",
       "      <td>149875</td>\n",
       "    </tr>\n",
       "    <tr>\n",
       "      <th>2</th>\n",
       "      <td>CA</td>\n",
       "      <td>10121249</td>\n",
       "      <td>155107</td>\n",
       "    </tr>\n",
       "    <tr>\n",
       "      <th>3</th>\n",
       "      <td>FL</td>\n",
       "      <td>7797286</td>\n",
       "      <td>113393</td>\n",
       "    </tr>\n",
       "    <tr>\n",
       "      <th>4</th>\n",
       "      <td>NJ</td>\n",
       "      <td>3443779</td>\n",
       "      <td>48266</td>\n",
       "    </tr>\n",
       "    <tr>\n",
       "      <th>5</th>\n",
       "      <td>IL</td>\n",
       "      <td>294908</td>\n",
       "      <td>3845</td>\n",
       "    </tr>\n",
       "    <tr>\n",
       "      <th>6</th>\n",
       "      <td>MI</td>\n",
       "      <td>293540</td>\n",
       "      <td>4098</td>\n",
       "    </tr>\n",
       "    <tr>\n",
       "      <th>7</th>\n",
       "      <td>IA</td>\n",
       "      <td>234732</td>\n",
       "      <td>3273</td>\n",
       "    </tr>\n",
       "    <tr>\n",
       "      <th>8</th>\n",
       "      <td>NV</td>\n",
       "      <td>203548</td>\n",
       "      <td>3320</td>\n",
       "    </tr>\n",
       "    <tr>\n",
       "      <th>9</th>\n",
       "      <td>VA</td>\n",
       "      <td>155266</td>\n",
       "      <td>2074</td>\n",
       "    </tr>\n",
       "    <tr>\n",
       "      <th>10</th>\n",
       "      <td>AK</td>\n",
       "      <td>138572</td>\n",
       "      <td>2018</td>\n",
       "    </tr>\n",
       "    <tr>\n",
       "      <th>11</th>\n",
       "      <td>WA</td>\n",
       "      <td>126606</td>\n",
       "      <td>1997</td>\n",
       "    </tr>\n",
       "    <tr>\n",
       "      <th>12</th>\n",
       "      <td>UT</td>\n",
       "      <td>115683</td>\n",
       "      <td>1704</td>\n",
       "    </tr>\n",
       "    <tr>\n",
       "      <th>13</th>\n",
       "      <td>MA</td>\n",
       "      <td>108662</td>\n",
       "      <td>1745</td>\n",
       "    </tr>\n",
       "    <tr>\n",
       "      <th>14</th>\n",
       "      <td>MN</td>\n",
       "      <td>105296</td>\n",
       "      <td>1442</td>\n",
       "    </tr>\n",
       "    <tr>\n",
       "      <th>15</th>\n",
       "      <td>MO</td>\n",
       "      <td>97878</td>\n",
       "      <td>1411</td>\n",
       "    </tr>\n",
       "    <tr>\n",
       "      <th>16</th>\n",
       "      <td>PA</td>\n",
       "      <td>87063</td>\n",
       "      <td>1127</td>\n",
       "    </tr>\n",
       "    <tr>\n",
       "      <th>17</th>\n",
       "      <td>NM</td>\n",
       "      <td>85195</td>\n",
       "      <td>955</td>\n",
       "    </tr>\n",
       "    <tr>\n",
       "      <th>18</th>\n",
       "      <td>GA</td>\n",
       "      <td>74949</td>\n",
       "      <td>1117</td>\n",
       "    </tr>\n",
       "    <tr>\n",
       "      <th>19</th>\n",
       "      <td>SC</td>\n",
       "      <td>68065</td>\n",
       "      <td>1019</td>\n",
       "    </tr>\n",
       "    <tr>\n",
       "      <th>20</th>\n",
       "      <td>AZ</td>\n",
       "      <td>64627</td>\n",
       "      <td>754</td>\n",
       "    </tr>\n",
       "    <tr>\n",
       "      <th>21</th>\n",
       "      <td>CT</td>\n",
       "      <td>60037</td>\n",
       "      <td>1009</td>\n",
       "    </tr>\n",
       "    <tr>\n",
       "      <th>22</th>\n",
       "      <td>NE</td>\n",
       "      <td>54629</td>\n",
       "      <td>640</td>\n",
       "    </tr>\n",
       "    <tr>\n",
       "      <th>23</th>\n",
       "      <td>CO</td>\n",
       "      <td>51620</td>\n",
       "      <td>611</td>\n",
       "    </tr>\n",
       "    <tr>\n",
       "      <th>24</th>\n",
       "      <td>OH</td>\n",
       "      <td>47424</td>\n",
       "      <td>749</td>\n",
       "    </tr>\n",
       "    <tr>\n",
       "      <th>25</th>\n",
       "      <td>AR</td>\n",
       "      <td>45132</td>\n",
       "      <td>732</td>\n",
       "    </tr>\n",
       "    <tr>\n",
       "      <th>26</th>\n",
       "      <td>HI</td>\n",
       "      <td>44800</td>\n",
       "      <td>522</td>\n",
       "    </tr>\n",
       "    <tr>\n",
       "      <th>27</th>\n",
       "      <td>OR</td>\n",
       "      <td>28827</td>\n",
       "      <td>372</td>\n",
       "    </tr>\n",
       "  </tbody>\n",
       "</table>\n",
       "</div>"
      ],
      "text/plain": [
       "   state_cd  Total_Trans_Amt  Total_Trans_Vol\n",
       "0        TX         10314288           152476\n",
       "1        NY         10258352           149875\n",
       "2        CA         10121249           155107\n",
       "3        FL          7797286           113393\n",
       "4        NJ          3443779            48266\n",
       "5        IL           294908             3845\n",
       "6        MI           293540             4098\n",
       "7        IA           234732             3273\n",
       "8        NV           203548             3320\n",
       "9        VA           155266             2074\n",
       "10       AK           138572             2018\n",
       "11       WA           126606             1997\n",
       "12       UT           115683             1704\n",
       "13       MA           108662             1745\n",
       "14       MN           105296             1442\n",
       "15       MO            97878             1411\n",
       "16       PA            87063             1127\n",
       "17       NM            85195              955\n",
       "18       GA            74949             1117\n",
       "19       SC            68065             1019\n",
       "20       AZ            64627              754\n",
       "21       CT            60037             1009\n",
       "22       NE            54629              640\n",
       "23       CO            51620              611\n",
       "24       OH            47424              749\n",
       "25       AR            45132              732\n",
       "26       HI            44800              522\n",
       "27       OR            28827              372"
      ]
     },
     "execution_count": 226,
     "metadata": {},
     "output_type": "execute_result"
    }
   ],
   "source": [
    "state_usage_df "
   ]
  },
  {
   "cell_type": "markdown",
   "id": "56e60cae-4020-4553-b60d-e49613d83c6f",
   "metadata": {},
   "source": [
    "##### Visualize state-wise credit card usage"
   ]
  },
  {
   "cell_type": "code",
   "execution_count": 229,
   "id": "ba3c5739-a3dc-4422-9d2e-92b4b050ec0e",
   "metadata": {},
   "outputs": [
    {
     "data": {
      "image/png": "[encoded data removed]",
      "text/plain": [
       "<Figure size 1200x600 with 1 Axes>"
      ]
     },
     "metadata": {},
     "output_type": "display_data"
    }
   ],
   "source": [
    "plt.figure(figsize=(12, 6))\n",
    "sns.barplot(x=\"state_cd\", y=\"Total_Trans_Amt\", data=state_usage_df)\n",
    "plt.title(\"State-wise Credit Card Usage\")\n",
    "plt.xlabel(\"State Code\")\n",
    "plt.ylabel(\"Total Transaction Amount\")\n",
    "plt.xticks(rotation=90)\n",
    "plt.show()"
   ]
  },
  {
   "cell_type": "markdown",
   "id": "acbaea3f-d109-48c9-94a5-44d1f5913d60",
   "metadata": {},
   "source": [
    "### 11. 👩‍🎓 Average Customer Satisfaction Score by Gender\n",
    "We will analyze the average cuatomer satisfaction score by gender"
   ]
  },
  {
   "cell_type": "markdown",
   "id": "21b212da-50a9-4b2c-b236-34af2924bf19",
   "metadata": {},
   "source": [
    "#### Execute the query and load the result into DataFrame"
   ]
  },
  {
   "cell_type": "code",
   "execution_count": 255,
   "id": "1368a070-26be-444a-aa89-5cbaa714ed4b",
   "metadata": {},
   "outputs": [],
   "source": [
    "query = \"\"\"\n",
    "SELECT \n",
    "    Gender, \n",
    "    AVG(Cust_Satisfaction_Score) AS Avg_Satisfaction_Score\n",
    "FROM \n",
    "    customer\n",
    "GROUP BY \n",
    "    Gender;\n",
    "\"\"\""
   ]
  },
  {
   "cell_type": "code",
   "execution_count": 257,
   "id": "28c29ae3-20c1-4894-ac31-a4211a420546",
   "metadata": {},
   "outputs": [],
   "source": [
    "satisfaction_by_gender_df = pd.read_sql_query(query, conn)"
   ]
  },
  {
   "cell_type": "markdown",
   "id": "a64fb147-bca7-4b27-8c08-26afd4d38737",
   "metadata": {},
   "source": [
    "##### Display Rsult"
   ]
  },
  {
   "cell_type": "code",
   "execution_count": 259,
   "id": "bea1c44f-0241-4350-85b1-2574e6cd747c",
   "metadata": {},
   "outputs": [
    {
     "data": {
      "text/html": [
       "<div>\n",
       "<style scoped>\n",
       "    .dataframe tbody tr th:only-of-type {\n",
       "        vertical-align: middle;\n",
       "    }\n",
       "\n",
       "    .dataframe tbody tr th {\n",
       "        vertical-align: top;\n",
       "    }\n",
       "\n",
       "    .dataframe thead th {\n",
       "        text-align: right;\n",
       "    }\n",
       "</style>\n",
       "<table border=\"1\" class=\"dataframe\">\n",
       "  <thead>\n",
       "    <tr style=\"text-align: right;\">\n",
       "      <th></th>\n",
       "      <th>Gender</th>\n",
       "      <th>Avg_Satisfaction_Score</th>\n",
       "    </tr>\n",
       "  </thead>\n",
       "  <tbody>\n",
       "    <tr>\n",
       "      <th>0</th>\n",
       "      <td>F</td>\n",
       "      <td>3.197109</td>\n",
       "    </tr>\n",
       "    <tr>\n",
       "      <th>1</th>\n",
       "      <td>M</td>\n",
       "      <td>3.178335</td>\n",
       "    </tr>\n",
       "  </tbody>\n",
       "</table>\n",
       "</div>"
      ],
      "text/plain": [
       "  Gender  Avg_Satisfaction_Score\n",
       "0      F                3.197109\n",
       "1      M                3.178335"
      ]
     },
     "execution_count": 259,
     "metadata": {},
     "output_type": "execute_result"
    }
   ],
   "source": [
    "satisfaction_by_gender_df"
   ]
  },
  {
   "cell_type": "markdown",
   "id": "a96c9fea-3cd6-4161-813c-26ddac108d42",
   "metadata": {},
   "source": [
    "### 12. 📚 Average Customer Satisfaction Score by Education Level"
   ]
  },
  {
   "cell_type": "markdown",
   "id": "f6b50645-ca43-49b5-a686-c5a11337aca3",
   "metadata": {},
   "source": [
    "##### Execute the query and load it into the DataFrame"
   ]
  },
  {
   "cell_type": "code",
   "execution_count": 265,
   "id": "8b06b7b7-a417-4716-a417-4d3a3bfc44e4",
   "metadata": {},
   "outputs": [],
   "source": [
    "query = \"\"\"\n",
    "SELECT \n",
    "    Education_Level, \n",
    "    AVG(Cust_Satisfaction_Score) AS Avg_Satisfaction_Score\n",
    "FROM \n",
    "    customer\n",
    "GROUP BY \n",
    "    Education_Level;\n",
    "\"\"\""
   ]
  },
  {
   "cell_type": "code",
   "execution_count": 267,
   "id": "b887e557-c8b4-428f-9c19-4478ab535318",
   "metadata": {},
   "outputs": [],
   "source": [
    "satisfaction_by_education_df = pd.read_sql_query(query, conn)"
   ]
  },
  {
   "cell_type": "markdown",
   "id": "4bc2d9e4-f0c8-449d-9c2a-e41280d02cf8",
   "metadata": {},
   "source": [
    "##### Display the result"
   ]
  },
  {
   "cell_type": "code",
   "execution_count": 275,
   "id": "521fd28a-b6ed-4c3c-94c7-a77d6e9cb57b",
   "metadata": {},
   "outputs": [
    {
     "data": {
      "text/html": [
       "<div>\n",
       "<style scoped>\n",
       "    .dataframe tbody tr th:only-of-type {\n",
       "        vertical-align: middle;\n",
       "    }\n",
       "\n",
       "    .dataframe tbody tr th {\n",
       "        vertical-align: top;\n",
       "    }\n",
       "\n",
       "    .dataframe thead th {\n",
       "        text-align: right;\n",
       "    }\n",
       "</style>\n",
       "<table border=\"1\" class=\"dataframe\">\n",
       "  <thead>\n",
       "    <tr style=\"text-align: right;\">\n",
       "      <th></th>\n",
       "      <th>Education_Level</th>\n",
       "      <th>Avg_Satisfaction_Score</th>\n",
       "    </tr>\n",
       "  </thead>\n",
       "  <tbody>\n",
       "    <tr>\n",
       "      <th>0</th>\n",
       "      <td>Doctorate</td>\n",
       "      <td>3.128603</td>\n",
       "    </tr>\n",
       "    <tr>\n",
       "      <th>1</th>\n",
       "      <td>Graduate</td>\n",
       "      <td>3.167150</td>\n",
       "    </tr>\n",
       "    <tr>\n",
       "      <th>2</th>\n",
       "      <td>High School</td>\n",
       "      <td>3.241911</td>\n",
       "    </tr>\n",
       "    <tr>\n",
       "      <th>3</th>\n",
       "      <td>Post-Graduate</td>\n",
       "      <td>3.153101</td>\n",
       "    </tr>\n",
       "    <tr>\n",
       "      <th>4</th>\n",
       "      <td>Uneducated</td>\n",
       "      <td>3.193527</td>\n",
       "    </tr>\n",
       "    <tr>\n",
       "      <th>5</th>\n",
       "      <td>Unknown</td>\n",
       "      <td>3.205941</td>\n",
       "    </tr>\n",
       "  </tbody>\n",
       "</table>\n",
       "</div>"
      ],
      "text/plain": [
       "  Education_Level  Avg_Satisfaction_Score\n",
       "0       Doctorate                3.128603\n",
       "1        Graduate                3.167150\n",
       "2     High School                3.241911\n",
       "3   Post-Graduate                3.153101\n",
       "4      Uneducated                3.193527\n",
       "5         Unknown                3.205941"
      ]
     },
     "execution_count": 275,
     "metadata": {},
     "output_type": "execute_result"
    }
   ],
   "source": [
    "satisfaction_by_education_df"
   ]
  },
  {
   "cell_type": "markdown",
   "id": "a1a3a191-b5a1-456d-ae61-ab8df298bf5e",
   "metadata": {},
   "source": [
    "### Conclusion\n",
    "Each of these analyses offers a detailed perspective on financial data, shedding light on customer behavior, credit card usage, and financial patterns. The insights derived from this analysis can be instrumental in helping a company refine its strategies, enhance customer satisfaction, and optimize its product offerings. By understanding these trends and relationships, businesses can make more informed decisions that align with customer needs and market dynamics."
   ]
  },
  {
   "cell_type": "markdown",
   "id": "fca9b76c-6e1b-477c-9729-b2f8afb1f266",
   "metadata": {},
   "source": [
    "### George Zacharia"
   ]
  }
 ],
 "metadata": {
  "kernelspec": {
   "display_name": "Python 3 (ipykernel)",
   "language": "python",
   "name": "python3"
  },
  "language_info": {
   "codemirror_mode": {
    "name": "ipython",
    "version": 3
   },
   "file_extension": ".py",
   "mimetype": "text/x-python",
   "name": "python",
   "nbconvert_exporter": "python",
   "pygments_lexer": "ipython3",
   "version": "3.12.4"
  }
 },
 "nbformat": 4,
 "nbformat_minor": 5
}
